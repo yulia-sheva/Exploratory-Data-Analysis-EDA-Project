{
 "cells": [
  {
   "cell_type": "markdown",
   "metadata": {},
   "source": [
    "## Analyzing borrowers’ risk of defaulting\n",
    "\n",
    "This project is to prepare a report for a bank’s loan division. We’ll need to find out if a customer’s marital status and number of children has an impact on whether they will default on a loan. The bank already has some data on customers’ credit worthiness.\n",
    "\n",
    "In this report we are building a **credit scoring** of a potential customer. A **credit scoring** is used to evaluate the ability of a potential borrower to repay their loan."
   ]
  },
  {
   "cell_type": "markdown",
   "metadata": {},
   "source": [
    "### Step 1. Open the data file and have a look at the general information. "
   ]
  },
  {
   "cell_type": "code",
   "execution_count": 1,
   "metadata": {},
   "outputs": [
    {
     "name": "stdout",
     "output_type": "stream",
     "text": [
      "<class 'pandas.core.frame.DataFrame'>\n",
      "RangeIndex: 21525 entries, 0 to 21524\n",
      "Data columns (total 12 columns):\n",
      "children            21525 non-null int64\n",
      "days_employed       19351 non-null float64\n",
      "dob_years           21525 non-null int64\n",
      "education           21525 non-null object\n",
      "education_id        21525 non-null int64\n",
      "family_status       21525 non-null object\n",
      "family_status_id    21525 non-null int64\n",
      "gender              21525 non-null object\n",
      "income_type         21525 non-null object\n",
      "debt                21525 non-null int64\n",
      "total_income        19351 non-null float64\n",
      "purpose             21525 non-null object\n",
      "dtypes: float64(2), int64(5), object(5)\n",
      "memory usage: 2.0+ MB\n"
     ]
    },
    {
     "data": {
      "text/html": [
       "<div>\n",
       "<style scoped>\n",
       "    .dataframe tbody tr th:only-of-type {\n",
       "        vertical-align: middle;\n",
       "    }\n",
       "\n",
       "    .dataframe tbody tr th {\n",
       "        vertical-align: top;\n",
       "    }\n",
       "\n",
       "    .dataframe thead th {\n",
       "        text-align: right;\n",
       "    }\n",
       "</style>\n",
       "<table border=\"1\" class=\"dataframe\">\n",
       "  <thead>\n",
       "    <tr style=\"text-align: right;\">\n",
       "      <th></th>\n",
       "      <th>children</th>\n",
       "      <th>days_employed</th>\n",
       "      <th>dob_years</th>\n",
       "      <th>education</th>\n",
       "      <th>education_id</th>\n",
       "      <th>family_status</th>\n",
       "      <th>family_status_id</th>\n",
       "      <th>gender</th>\n",
       "      <th>income_type</th>\n",
       "      <th>debt</th>\n",
       "      <th>total_income</th>\n",
       "      <th>purpose</th>\n",
       "    </tr>\n",
       "  </thead>\n",
       "  <tbody>\n",
       "    <tr>\n",
       "      <td>0</td>\n",
       "      <td>1</td>\n",
       "      <td>-8437.673028</td>\n",
       "      <td>42</td>\n",
       "      <td>bachelor's degree</td>\n",
       "      <td>0</td>\n",
       "      <td>married</td>\n",
       "      <td>0</td>\n",
       "      <td>F</td>\n",
       "      <td>employee</td>\n",
       "      <td>0</td>\n",
       "      <td>40620.102</td>\n",
       "      <td>purchase of the house</td>\n",
       "    </tr>\n",
       "    <tr>\n",
       "      <td>1</td>\n",
       "      <td>1</td>\n",
       "      <td>-4024.803754</td>\n",
       "      <td>36</td>\n",
       "      <td>secondary education</td>\n",
       "      <td>1</td>\n",
       "      <td>married</td>\n",
       "      <td>0</td>\n",
       "      <td>F</td>\n",
       "      <td>employee</td>\n",
       "      <td>0</td>\n",
       "      <td>17932.802</td>\n",
       "      <td>car purchase</td>\n",
       "    </tr>\n",
       "    <tr>\n",
       "      <td>2</td>\n",
       "      <td>0</td>\n",
       "      <td>-5623.422610</td>\n",
       "      <td>33</td>\n",
       "      <td>Secondary Education</td>\n",
       "      <td>1</td>\n",
       "      <td>married</td>\n",
       "      <td>0</td>\n",
       "      <td>M</td>\n",
       "      <td>employee</td>\n",
       "      <td>0</td>\n",
       "      <td>23341.752</td>\n",
       "      <td>purchase of the house</td>\n",
       "    </tr>\n",
       "    <tr>\n",
       "      <td>3</td>\n",
       "      <td>3</td>\n",
       "      <td>-4124.747207</td>\n",
       "      <td>32</td>\n",
       "      <td>secondary education</td>\n",
       "      <td>1</td>\n",
       "      <td>married</td>\n",
       "      <td>0</td>\n",
       "      <td>M</td>\n",
       "      <td>employee</td>\n",
       "      <td>0</td>\n",
       "      <td>42820.568</td>\n",
       "      <td>supplementary education</td>\n",
       "    </tr>\n",
       "    <tr>\n",
       "      <td>4</td>\n",
       "      <td>0</td>\n",
       "      <td>340266.072047</td>\n",
       "      <td>53</td>\n",
       "      <td>secondary education</td>\n",
       "      <td>1</td>\n",
       "      <td>civil partnership</td>\n",
       "      <td>1</td>\n",
       "      <td>F</td>\n",
       "      <td>retiree</td>\n",
       "      <td>0</td>\n",
       "      <td>25378.572</td>\n",
       "      <td>to have a wedding</td>\n",
       "    </tr>\n",
       "  </tbody>\n",
       "</table>\n",
       "</div>"
      ],
      "text/plain": [
       "   children  days_employed  dob_years            education  education_id  \\\n",
       "0         1   -8437.673028         42    bachelor's degree             0   \n",
       "1         1   -4024.803754         36  secondary education             1   \n",
       "2         0   -5623.422610         33  Secondary Education             1   \n",
       "3         3   -4124.747207         32  secondary education             1   \n",
       "4         0  340266.072047         53  secondary education             1   \n",
       "\n",
       "       family_status  family_status_id gender income_type  debt  total_income  \\\n",
       "0            married                 0      F    employee     0     40620.102   \n",
       "1            married                 0      F    employee     0     17932.802   \n",
       "2            married                 0      M    employee     0     23341.752   \n",
       "3            married                 0      M    employee     0     42820.568   \n",
       "4  civil partnership                 1      F     retiree     0     25378.572   \n",
       "\n",
       "                   purpose  \n",
       "0    purchase of the house  \n",
       "1             car purchase  \n",
       "2    purchase of the house  \n",
       "3  supplementary education  \n",
       "4        to have a wedding  "
      ]
     },
     "metadata": {},
     "output_type": "display_data"
    },
    {
     "name": "stdout",
     "output_type": "stream",
     "text": [
      "21525\n"
     ]
    }
   ],
   "source": [
    "#Let’s read the table from the csv file and then check: what we have in the table:\n",
    "\n",
    "import pandas as pd\n",
    "credit_scoring = pd.read_csv('/datasets/credit_scoring_eng.csv')\n",
    "credit_scoring.info()\n",
    "\n",
    "#We might check how this data looks like and what contecnt is in top 5 rows: \n",
    "#print(credit_scoring.head())\n",
    "display(credit_scoring.head()) #very nice, thank you :)\n",
    "#Let's check the length of the table - we see\n",
    "print(len(credit_scoring))\n"
   ]
  },
  {
   "cell_type": "markdown",
   "metadata": {},
   "source": [
    "### Conclusion"
   ]
  },
  {
   "cell_type": "markdown",
   "metadata": {},
   "source": [
    "Data set is saved as a credit_scoring variable. Its total length is 21525 rows. The clients’ family status appears in the ‘family_status’ column and 'family_status_id'; their total income, in the ‘total_income’ column (as float); and their ages (as integers), in the ‘dob_years’ column; number of children in 'children' column, employment period in 'days_employed', educational level in 'education' column and 'education_id', client's gender in 'gender' column; source of income in 'income_type'; status of the credit repayment in 'debt' column; credit's purpose in 'purpose'. Let's see the quality of the data, for example whether there are missing values and other peculiarities."
   ]
  },
  {
   "cell_type": "markdown",
   "metadata": {},
   "source": [
    "### Step 2. Data preprocessing"
   ]
  },
  {
   "cell_type": "markdown",
   "metadata": {},
   "source": [
    "### Processing missing values"
   ]
  },
  {
   "cell_type": "code",
   "execution_count": 2,
   "metadata": {},
   "outputs": [
    {
     "name": "stdout",
     "output_type": "stream",
     "text": [
      "2174\n",
      "2174\n",
      "\n"
     ]
    },
    {
     "data": {
      "text/plain": [
       "0        40620.102\n",
       "1        17932.802\n",
       "2        23341.752\n",
       "3        42820.568\n",
       "4        25378.572\n",
       "           ...    \n",
       "21520    35966.698\n",
       "21521    24959.969\n",
       "21522    14347.610\n",
       "21523    39054.888\n",
       "21524    13127.587\n",
       "Name: total_income, Length: 21525, dtype: float64"
      ]
     },
     "execution_count": 2,
     "metadata": {},
     "output_type": "execute_result"
    }
   ],
   "source": [
    "#Let's identify and fill in missing values. \n",
    "#We sart with 'total_income' and then 'days_employed'.\n",
    "\n",
    "print(len(credit_scoring[credit_scoring['days_employed'].isnull()]))\n",
    "print(len(credit_scoring[credit_scoring['total_income'].isnull()]))\n",
    "print()\n",
    "#Null values of total_income and days_employed - 2174, correlated.\n",
    "#Let's make sure there is correctly stored as NaN so we can operate it later on:\n",
    "pd.to_numeric(credit_scoring['days_employed'], errors = 'coerce')\n",
    "pd.to_numeric(credit_scoring['total_income'], errors = 'coerce')"
   ]
  },
  {
   "cell_type": "code",
   "execution_count": 3,
   "metadata": {},
   "outputs": [
    {
     "name": "stdout",
     "output_type": "stream",
     "text": [
      "<class 'pandas.core.frame.DataFrame'>\n",
      "RangeIndex: 21525 entries, 0 to 21524\n",
      "Data columns (total 12 columns):\n",
      "children            21525 non-null int64\n",
      "days_employed       19351 non-null float64\n",
      "dob_years           21525 non-null int64\n",
      "education           21525 non-null object\n",
      "education_id        21525 non-null int64\n",
      "family_status       21525 non-null object\n",
      "family_status_id    21525 non-null int64\n",
      "gender              21525 non-null object\n",
      "income_type         21525 non-null object\n",
      "debt                21525 non-null int64\n",
      "total_income        19351 non-null float64\n",
      "purpose             21525 non-null object\n",
      "dtypes: float64(2), int64(5), object(5)\n",
      "memory usage: 2.0+ MB\n",
      "       children  days_employed  dob_years     education  education_id  \\\n",
      "10701         0   -2358.600502         24  some college             2   \n",
      "\n",
      "           family_status  family_status_id gender income_type  debt  \\\n",
      "10701  civil partnership                 1    XNA    business     0   \n",
      "\n",
      "       total_income          purpose  \n",
      "10701     32624.825  buy real estate  \n"
     ]
    }
   ],
   "source": [
    "credit_scoring.info()\n",
    "\n",
    "#We can see that while checking 'gender' there is a value XNA that worth checking.\n",
    "print(credit_scoring[credit_scoring['gender']=='XNA']) #so we can delete it as it represents less than 1% of the data\n",
    "credit_scoring.drop(credit_scoring[credit_scoring['gender']=='XNA'].index, axis=0, inplace=True)    \n",
    "#print(credit_scoring[credit_scoring['gender']=='XNA'])\n",
    "\n",
    "#We can see that while checking 'dob_years' there are 101 entries that have value ‘0’ for the age (‘dob_years’)\n",
    "#print(credit_scoring['dob_years'].value_counts())"
   ]
  },
  {
   "cell_type": "markdown",
   "metadata": {},
   "source": [
    "### Conclusion"
   ]
  },
  {
   "cell_type": "markdown",
   "metadata": {},
   "source": [
    "Most cells contains 21525 rows except total_income and days_employed - 19351. These are missing values that are correlared and that we turned to NaN with 'coerce'. Next missing value   was found while checking 'gender': XNA, this row was deleted. Other columns' data looks good.\n",
    "\n",
    "\n"
   ]
  },
  {
   "cell_type": "markdown",
   "metadata": {},
   "source": [
    "### Data type replacement"
   ]
  },
  {
   "cell_type": "code",
   "execution_count": 4,
   "metadata": {},
   "outputs": [
    {
     "name": "stdout",
     "output_type": "stream",
     "text": [
      "Empty DataFrame\n",
      "Columns: [children, days_employed, dob_years, education, education_id, family_status, family_status_id, gender, income_type, debt, total_income, purpose]\n",
      "Index: []\n",
      "Empty DataFrame\n",
      "Columns: [children, days_employed, dob_years, education, education_id, family_status, family_status_id, gender, income_type, debt, total_income, purpose]\n",
      "Index: []\n"
     ]
    }
   ],
   "source": [
    "    \n",
    "#To make sure that our data set is clean, let's see what kind of values we have in each column with value_counts() function.\n",
    "#print(credit_scoring['purpose'].value_counts())\n",
    "\n",
    "#We can see that while checking 'days_employed' there are entries with negative values.\n",
    "#print(credit_scoring['days_employed'].value_counts())\n",
    "#print((credit_scoring[credit_scoring['days_employed'] < 0]).count())\n",
    "#There are 15905 negative values that seems to be an error of data saving, so we can turn them to positive\n",
    "pd.to_numeric(credit_scoring['days_employed'], errors = 'coerce')\n",
    "credit_scoring['days_employed'] = abs(credit_scoring['days_employed'])\n",
    "#Let's check that values of 'days_employed' now saved as positive:\n",
    "print(credit_scoring[credit_scoring['days_employed'] < 0])\n",
    "print(credit_scoring[credit_scoring['gender']=='XNA'])\n"
   ]
  },
  {
   "cell_type": "code",
   "execution_count": 5,
   "metadata": {},
   "outputs": [
    {
     "name": "stdout",
     "output_type": "stream",
     "text": [
      " 0     14148\n",
      " 1      4818\n",
      " 2      2055\n",
      " 3       330\n",
      " 20       76\n",
      "-1        47\n",
      " 4        41\n",
      " 5         9\n",
      "Name: children, dtype: int64\n",
      "\n",
      "children            47\n",
      "days_employed       44\n",
      "dob_years           47\n",
      "education           47\n",
      "education_id        47\n",
      "family_status       47\n",
      "family_status_id    47\n",
      "gender              47\n",
      "income_type         47\n",
      "debt                47\n",
      "total_income        44\n",
      "purpose             47\n",
      "dtype: int64\n",
      "\n",
      "0    14148\n",
      "1     4865\n",
      "2     2131\n",
      "3      330\n",
      "4       41\n",
      "5        9\n",
      "Name: children, dtype: int64\n"
     ]
    }
   ],
   "source": [
    "#We can see that while checking 'children' there are entries with negative values.\n",
    "print(credit_scoring['children'].value_counts())\n",
    "print()\n",
    "print((credit_scoring[credit_scoring['children'] < 0]).count())\n",
    "print()\n",
    "#There are 47 negative values that seems to be an error of data saving, so we can turn them to positive\n",
    "pd.to_numeric(credit_scoring['children'], errors = 'coerce')\n",
    "credit_scoring['children'] = abs(credit_scoring['children'])\n",
    "#In addition, there are 76 entries that have value ‘20’ children that seems like another error and should be changed to '2'\n",
    "credit_scoring['children'] = credit_scoring['children'].replace(20, 2)\n",
    "print(credit_scoring['children'].value_counts())\n"
   ]
  },
  {
   "cell_type": "markdown",
   "metadata": {},
   "source": [
    "### Conclusion"
   ]
  },
  {
   "cell_type": "markdown",
   "metadata": {},
   "source": [
    "While checking 'days_employed' it was found 15905 entries with negative values that seems to be an error of data saving, so they were updated to positive. Another set of 47 negative values was found in column 'children' and turned to positive. In addition, there were 76 entries that had '20' children. This was updated to '2'. "
   ]
  },
  {
   "cell_type": "markdown",
   "metadata": {},
   "source": [
    "### Processing duplicates"
   ]
  },
  {
   "cell_type": "code",
   "execution_count": 6,
   "metadata": {},
   "outputs": [
    {
     "name": "stdout",
     "output_type": "stream",
     "text": [
      "43\n"
     ]
    }
   ],
   "source": [
    "#Let's take a look on client's age 'dob_years' column. \n",
    "#print(credit_scoring['dob_years'].value_counts())\n",
    "#We can see 101 entries with value '0', it'd be better to fill with average value, so we keep the data:\n",
    "print(round(credit_scoring['dob_years'].mean()))\n",
    "credit_scoring['dob_years'] = credit_scoring['dob_years'].replace(0, (round(credit_scoring['dob_years'].mean())))\n",
    "#print(credit_scoring['dob_years'].value_counts())"
   ]
  },
  {
   "cell_type": "code",
   "execution_count": 7,
   "metadata": {},
   "outputs": [
    {
     "name": "stdout",
     "output_type": "stream",
     "text": [
      "secondary education    13750\n",
      "bachelor's degree       4718\n",
      "SECONDARY EDUCATION      772\n",
      "Secondary Education      711\n",
      "some college             667\n",
      "BACHELOR'S DEGREE        274\n",
      "Bachelor's Degree        268\n",
      "primary education        250\n",
      "Some College              47\n",
      "SOME COLLEGE              29\n",
      "PRIMARY EDUCATION         17\n",
      "Primary Education         15\n",
      "graduate degree            4\n",
      "GRADUATE DEGREE            1\n",
      "Graduate Degree            1\n",
      "Name: education, dtype: int64\n",
      "secondary education    15233\n",
      "bachelor's degree       5260\n",
      "some college             743\n",
      "primary education        282\n",
      "graduate degree            6\n",
      "Name: education, dtype: int64\n"
     ]
    }
   ],
   "source": [
    "#Let's take a look on client's 'education' column:\n",
    "print(credit_scoring['education'].value_counts())\n",
    "#There are values with different spelling and high/low case that means the same in the ‘education’ column:\n",
    "credit_scoring['education'] = credit_scoring['education'].str.lower()\n",
    "print(credit_scoring['education'].value_counts())"
   ]
  },
  {
   "cell_type": "code",
   "execution_count": 8,
   "metadata": {},
   "outputs": [],
   "source": [
    "#Let'simport library for stemming \n",
    "import nltk\n",
    "from nltk.stem import SnowballStemmer \n",
    "english_stemmer = SnowballStemmer('english')\n",
    "\n",
    "#then split clients' 'purposes' into single words in the variable stemmed_word\n",
    "queries = credit_scoring['purpose']\n",
    "for query in queries:\n",
    "    for word in query.split(' '):\n",
    "        stemmed_word = english_stemmer.stem(word)\n",
    "        #print('Source word -', word, ', after stemming -', stemmed_word)\n",
    "        #print(stemmed_word)\n",
    "\n",
    "#now we can see what are the most frequent ones in order to find out categories\n",
    "        from nltk.stem import WordNetLemmatizer\n",
    "        from collections import Counter\n",
    "        wordnet_lemma = WordNetLemmatizer()\n",
    "        words = nltk.word_tokenize(stemmed_word)\n",
    "        lemmas = [wordnet_lemma.lemmatize(w, pos = 'n') for w in words]\n",
    " \n",
    "        from collections import Counter\n",
    "        counter = Counter(lemmas)\n",
    "        \n",
    "        #print(list(set(dict.fromkeys(counter))))\n",
    "        #print((sorted(counter, key=counter.get, reverse=True)))\n",
    "#new table\n",
    "        final = (sorted(counter, key=counter.get, reverse=True))\n",
    "        #for element in final:\n",
    "            #print(element) #(list(dict.fromkeys(element)))\n"
   ]
  },
  {
   "cell_type": "code",
   "execution_count": 9,
   "metadata": {},
   "outputs": [
    {
     "data": {
      "text/plain": [
       "Counter({'purchas': 3314,\n",
       "         'of': 2998,\n",
       "         'the': 1288,\n",
       "         'hous': 3820,\n",
       "         'car': 4315,\n",
       "         'supplementari': 909,\n",
       "         'educ': 3526,\n",
       "         'to': 3081,\n",
       "         'have': 1551,\n",
       "         'a': 5130,\n",
       "         'wed': 2348,\n",
       "         'transact': 2610,\n",
       "         'for': 1294,\n",
       "         'my': 2396,\n",
       "         'famili': 641,\n",
       "         'buy': 4003,\n",
       "         'real': 4477,\n",
       "         'estat': 4477,\n",
       "         'commerci': 1315,\n",
       "         'residenti': 607,\n",
       "         'construct': 635,\n",
       "         'own': 2240,\n",
       "         'properti': 2542,\n",
       "         'build': 1246,\n",
       "         'second-hand': 968,\n",
       "         'with': 1281,\n",
       "         'becom': 412,\n",
       "         'get': 1316,\n",
       "         'an': 443,\n",
       "         'ceremoni': 797,\n",
       "         'higher': 426,\n",
       "         'profil': 436,\n",
       "         'univers': 949,\n",
       "         'rent': 653,\n",
       "         'out': 653,\n",
       "         'renov': 612,\n",
       "         'go': 496})"
      ]
     },
     "execution_count": 9,
     "metadata": {},
     "output_type": "execute_result"
    }
   ],
   "source": [
    "# Imagine that import is in a first cell\n",
    "# from nltk.stem import SnowballStemmer\n",
    "\n",
    "english_stemmer = SnowballStemmer('english')\n",
    "\n",
    "words = credit_scoring['purpose'].str.cat(sep=' ').split()\n",
    "stemmed_words = []\n",
    "\n",
    "for word in words:\n",
    "    stemmed_words.append(english_stemmer.stem(word))\n",
    "    \n",
    "Counter(stemmed_words)"
   ]
  },
  {
   "cell_type": "markdown",
   "metadata": {},
   "source": [
    "### Conclusion"
   ]
  },
  {
   "cell_type": "markdown",
   "metadata": {},
   "source": [
    "While checking duplicates, we found values with different high/low case that means the same in the ‘education’ column and alligned them with str.lower() function. In addition, in the 'dob_years' column value '0' was replaced with the average age in order to improve data quality ('0' doesn't seem to be a valid age to get the credit). We could see values with different wording but same meaning in the purpose of credit column 'purpose', so it was grouped by replacing them as follows: car, wedding, education, real estate."
   ]
  },
  {
   "cell_type": "markdown",
   "metadata": {},
   "source": [
    "### Categorizing Data"
   ]
  },
  {
   "cell_type": "code",
   "execution_count": 10,
   "metadata": {},
   "outputs": [
    {
     "name": "stdout",
     "output_type": "stream",
     "text": [
      "adult     19127\n",
      "young      1233\n",
      "senior     1164\n",
      "Name: age_group, dtype: int64\n"
     ]
    }
   ],
   "source": [
    "#It might be interesting to classify data \n",
    "#by AGE GROUPS: YOUNG, ADULT, SENIOR\n",
    "#The age group is returned according to the \"dob_years\" value, by using the following rules:\n",
    "#'young' with age value <= 25 years\n",
    "#'senior' with age value >= 64 years\n",
    "#'adult' for all other cases \n",
    "def age_group(row):\n",
    "    dob_years = row['dob_years']\n",
    "    \n",
    "    if dob_years <= 25:\n",
    "        return 'young'\n",
    "    elif dob_years >= 64:\n",
    "        return 'senior'\n",
    "    return 'adult'\n",
    "credit_scoring['age_group'] = credit_scoring.apply(age_group, axis=1)\n",
    "print(credit_scoring['age_group'].value_counts())\n",
    "#There are 19127 adult clients, 1233 young and 1164 senior"
   ]
  },
  {
   "cell_type": "code",
   "execution_count": 11,
   "metadata": {},
   "outputs": [
    {
     "name": "stdout",
     "output_type": "stream",
     "text": [
      "wedding ceremony                            797\n",
      "having a wedding                            777\n",
      "to have a wedding                           774\n",
      "real estate transactions                    676\n",
      "buy commercial real estate                  664\n",
      "buying property for renting out             653\n",
      "housing transactions                        653\n",
      "transactions with commercial real estate    651\n",
      "housing                                     647\n",
      "purchase of the house                       647\n",
      "purchase of the house for my family         641\n",
      "construction of own property                635\n",
      "property                                    634\n",
      "transactions with my real estate            630\n",
      "building a real estate                      626\n",
      "buy real estate                             623\n",
      "purchase of my own house                    620\n",
      "building a property                         620\n",
      "housing renovation                          612\n",
      "buy residential real estate                 607\n",
      "buying my own car                           505\n",
      "going to university                         496\n",
      "car                                         495\n",
      "second-hand car purchase                    489\n",
      "to own a car                                480\n",
      "buying a second-hand car                    479\n",
      "cars                                        478\n",
      "to buy a car                                472\n",
      "car purchase                                462\n",
      "supplementary education                     462\n",
      "purchase of a car                           455\n",
      "university education                        453\n",
      "to get a supplementary education            447\n",
      "education                                   447\n",
      "getting an education                        443\n",
      "profile education                           436\n",
      "getting higher education                    426\n",
      "to become educated                          412\n",
      "Name: purpose, dtype: int64\n"
     ]
    }
   ],
   "source": [
    "#by credit PURPOSE: WEDDING, CAR, REAL ESTATE, EDUCATION\n",
    "print(credit_scoring['purpose'].value_counts())\n",
    "#There are 10839 clients who took a credit for real estate, 4315 to buy a car, 4022 to get the education and 2348 for wedding"
   ]
  },
  {
   "cell_type": "code",
   "execution_count": 12,
   "metadata": {},
   "outputs": [
    {
     "name": "stdout",
     "output_type": "stream",
     "text": [
      "0    19783\n",
      "1     1741\n",
      "Name: debt, dtype: int64\n"
     ]
    }
   ],
   "source": [
    "#by whether the credit is paid on time - DEBT: YES, NO\n",
    "print(credit_scoring['debt'].value_counts())\n",
    "#There are 19783 clients who pay on time and 1741 who are not "
   ]
  },
  {
   "cell_type": "code",
   "execution_count": 13,
   "metadata": {},
   "outputs": [
    {
     "name": "stdout",
     "output_type": "stream",
     "text": [
      "not single    16556\n",
      "sinlge         4968\n",
      "Name: family_group, dtype: int64\n"
     ]
    }
   ],
   "source": [
    "#by FAMILY STATUS: SINGLE, NOT SINGLE (merge all clients who have a couple vs those who are alone to check whether there is a correlation and it's harder to repay debt when someone lives alone)\n",
    "#First, let's check what id corresponds to what status:\n",
    "credit_scoring.groupby(['family_status_id','family_status']).size()\n",
    "#0 - married, 1 - civil partnership, 2 - widow / widower, 3 - divorced, 4 - unmarried\n",
    "#Thus, there will be two groups: single - 2, 3, 4, not single - 0, 1\n",
    "def family_group(row):\n",
    "    family_status = row['family_status_id']\n",
    "    \n",
    "    if family_status <= 1:\n",
    "        return 'not single'\n",
    "    return 'sinlge'\n",
    "\n",
    "credit_scoring['family_group'] = credit_scoring.apply(family_group, axis=1)\n",
    "print(credit_scoring['family_group'].value_counts())  \n",
    "#There are 16556 clients who live in couples an 4968 who are single"
   ]
  },
  {
   "cell_type": "code",
   "execution_count": 14,
   "metadata": {},
   "outputs": [
    {
     "name": "stdout",
     "output_type": "stream",
     "text": [
      "childfree    14148\n",
      "children      7376\n",
      "Name: children_group, dtype: int64\n"
     ]
    }
   ],
   "source": [
    "#by childfree or having CHILDREN: NO CHILDREN, CHILDREN (merge all clients who have kids and those who are childfree to check whether there is a correlation and it's harder to repay debt when there are kids)\n",
    "#There will be two groups: childfree  - 0, children - all other values\n",
    "def children_group(row):\n",
    "    children = row['children']\n",
    "    \n",
    "    if ( children == 0):\n",
    "        return 'childfree'\n",
    "    return 'children'\n",
    "\n",
    "credit_scoring['children_group'] = credit_scoring.apply(children_group, axis=1)\n",
    "print(credit_scoring['children_group'].value_counts())  \n",
    "#There are 14148 clients who have no children and 7376 who have at list one kid "
   ]
  },
  {
   "cell_type": "code",
   "execution_count": 15,
   "metadata": {},
   "outputs": [
    {
     "name": "stdout",
     "output_type": "stream",
     "text": [
      "undergraduated    16258\n",
      "graduated          5266\n",
      "Name: education_group, dtype: int64\n"
     ]
    }
   ],
   "source": [
    "#by education: , CHILDREN (merge all clients who have kids and those who are childfree to check whether there is a correlation and it's harder to repay debt when there are kids)\n",
    "#First, let's check what id corresponds to what status:\n",
    "credit_scoring.groupby(['education_id','education']).size()\n",
    "\n",
    "# 0 - bachelor's degree, 1 - secondary education, 2 - some college, 3 - primary education, 4 - graduate degree\n",
    "#Thus, there will be two groups: graduated  - 0, 4, undergraduated - 1, 2, 3\n",
    "def education_group(row):\n",
    "    education = row['education_id']\n",
    "    \n",
    "    if ( 0 < education < 4):\n",
    "        return 'undergraduated'\n",
    "    return 'graduated'\n",
    "\n",
    "credit_scoring['education_group'] = credit_scoring.apply(education_group, axis=1)\n",
    "print(credit_scoring['education_group'].value_counts())  \n",
    "#There are 16258 clients who did not finish the university and 5266 who did \n",
    "\n",
    "#print(credit_scoring.head(10))\n",
    "#print(credit_scoring[credit_scoring['family_group'] == 'sinlge'].head())"
   ]
  },
  {
   "cell_type": "markdown",
   "metadata": {},
   "source": [
    "### Conclusion"
   ]
  },
  {
   "cell_type": "markdown",
   "metadata": {},
   "source": [
    "While our credit data was classified according to the age groups, education level, whether people are living in couples or having kids, we found that there are :\n",
    "- 19127 adult clients, 1233 young and 1164 senior\n",
    "- 19783 clients who pay on time and 1741 who are not \n",
    "- 10839 clients who took a credit for real estate, 4315 to buy a car, 4022 to get the education and 2348 for wedding\n",
    "- 14148 clients who have no children and 7376 who have at list one kid\n",
    "- 16556 clients who live in couples and 4968 who are single\n",
    "- 16258 clients who did not finish the university and 5266 who did \n",
    "\n",
    "In the next part let's take a more precise look on our clients comparing number of those characteristics between each other."
   ]
  },
  {
   "cell_type": "markdown",
   "metadata": {},
   "source": [
    "### Step 3. -1. Is there a relation between having kids and repaying a loan on time?"
   ]
  },
  {
   "cell_type": "code",
   "execution_count": 16,
   "metadata": {},
   "outputs": [
    {
     "name": "stdout",
     "output_type": "stream",
     "text": [
      "debt_id            no   yes  total  ratio_debtVStotal,%\n",
      "children_group                                         \n",
      "childfree       13085  1063  14148                  7.5\n",
      "children         6698   678   7376                  9.2\n"
     ]
    }
   ],
   "source": [
    "\n",
    "#In order to create a pivote table, let's create a new variable and a column 'debt_id' \n",
    "#with string 'yes/no' values \n",
    "def debt_id(row):\n",
    "    debt = row['debt']\n",
    "    if debt == 1 :  \n",
    "        return 'yes'\n",
    "    return 'no'\n",
    "credit_scoring['debt_id'] = credit_scoring.apply(debt_id, axis=1)\n",
    "\n",
    "#display(credit_scoring.head())\n",
    "data_pivot = credit_scoring.pivot_table(index=['children_group'], columns='debt_id', values='debt', aggfunc='count')\n",
    "data_pivot['total'] = data_pivot['yes'] + data_pivot['no']\n",
    "data_pivot['ratio_debtVStotal,%'] = round(data_pivot['yes'] / data_pivot['total']*100,1)\n",
    "\n",
    "print(data_pivot)\n",
    "#Those clients who have no kids don't repay their loan in 7.5% of cases, vs. 9.2% of those who have kids."
   ]
  },
  {
   "cell_type": "markdown",
   "metadata": {},
   "source": [
    "### Conclusion"
   ]
  },
  {
   "cell_type": "markdown",
   "metadata": {},
   "source": [
    "When we go deeper to our analysis, we can see that there are 20846 cases when having kids doesn't impact the loan repaiment and 678 cases when there is an impact, that represent 3% of cases.\n",
    "Those clients who have no kids don't repay loan their in 7.5% of cases, vs. 9.2% of those who have kids."
   ]
  },
  {
   "cell_type": "markdown",
   "metadata": {},
   "source": [
    "### Step 3. -2. Is there a relation between marital status and repaying a loan on time?"
   ]
  },
  {
   "cell_type": "code",
   "execution_count": 17,
   "metadata": {},
   "outputs": [
    {
     "name": "stdout",
     "output_type": "stream",
     "text": [
      "family_group  not single  sinlge  total_group  ratio_singleVStotal_group,%\n",
      "debt_id                                                                   \n",
      "no                 15237    4546        19783                         23.0\n",
      "yes                 1319     422         1741                         24.2\n"
     ]
    }
   ],
   "source": [
    "\n",
    "#-----------------------\n",
    "data_pivot = credit_scoring.pivot_table(index=['debt_id'], columns='family_group', values='debt', aggfunc='count')\n",
    "data_pivot['total_group'] = data_pivot['not single'] + data_pivot['sinlge']\n",
    "data_pivot['ratio_singleVStotal_group,%'] = round(data_pivot['sinlge'] / data_pivot['total_group']*100,1)\n",
    "\n",
    "print(data_pivot)\n",
    "#Among those clients who have no debt, 23% are single (widow / widower, divorced or unmarried)\n",
    "#whereas among those clients who have delay in their loan repayment, 24% are single."
   ]
  },
  {
   "cell_type": "code",
   "execution_count": 18,
   "metadata": {},
   "outputs": [
    {
     "name": "stdout",
     "output_type": "stream",
     "text": [
      "Out of total number of clients, those who have a delay in repaying a loan living:\n",
      "- in couples (married or in civil partnership): 6.1%\n",
      "- alone (widow / widower, divorced or unmarried): 2.0%\n"
     ]
    }
   ],
   "source": [
    "# before revision 1/7/2020:\n",
    "#-----------------------\n",
    "#In order to check how the marital status and repaying loan on time are correlated, let's create a new variable marital_loan_trust\n",
    "#So we have to find those who have debt ('debt'==1) and have marital status - married or in civil partnership (family_group == 'not single') vs those who carry this loan alone\n",
    "def marital_loan_trust(row):\n",
    "    family_group = row['family_group']\n",
    "    debt = row['debt']  \n",
    "    if family_group == 'sinlge' :\n",
    "        if debt == 1 :\n",
    "            return 'single_debt_correlated'\n",
    "    if family_group == 'not single' :\n",
    "        if debt == 1 :\n",
    "            return 'couple_debt_correlated'\n",
    "    \n",
    "    return 'marital_debt_not_correlated'\n",
    "\n",
    "#Then let's add this as column marital_loan_trust to credit_scoring table and calculate the percent of total number of cases\n",
    "credit_scoring['marital_loan_trust'] = credit_scoring.apply(marital_loan_trust, axis=1)\n",
    "#print(credit_scoring[credit_scoring['marital_loan_trust'] == 'single_debt_correlated'].head())\n",
    "couple_debt_correlated = (credit_scoring[credit_scoring['marital_loan_trust'] == 'couple_debt_correlated']).count()/len(credit_scoring['debt'])\n",
    "single_debt_correlated = (credit_scoring[credit_scoring['marital_loan_trust'] == 'single_debt_correlated']).count()/len(credit_scoring['debt'])\n",
    "\n",
    "print('Out of total number of clients, those who have a delay in repaying a loan living:')\n",
    "print('- in couples (married or in civil partnership): {:.1%}'.format(couple_debt_correlated['marital_loan_trust']))\n",
    "print('- alone (widow / widower, divorced or unmarried): {:.1%}'.format(single_debt_correlated['marital_loan_trust']))\n",
    "\n",
    "\n",
    "#There are 20846 cases when having kids doesn't impact the loan repaiment and 678 cases when there is an impact.\n",
    "#To double check our result, let see the table .size() method:\n",
    "#credit_scoring.groupby(['family_group','debt']).size()"
   ]
  },
  {
   "cell_type": "markdown",
   "metadata": {},
   "source": [
    "### Conclusion"
   ]
  },
  {
   "cell_type": "markdown",
   "metadata": {},
   "source": [
    "We can see that the marital situation has some correlation with the loan repaiment. There are 2% of th Out of total number of clients, those who have a delay in repaying a loan living:\n",
    "- in couples (married or in civil partnership): 6.1%\n",
    "- alone (widow / widower, divorced or unmarried): 2.0%\n",
    "\n",
    "Among those clients who have no debt, 23% are single (widow / widower, divorced or unmarried), whereas among those clients who have delay in their loan repayment, 24% are single."
   ]
  },
  {
   "cell_type": "markdown",
   "metadata": {},
   "source": [
    "### Step 3. -3. Is there a relation between income level and repaying a loan on time?"
   ]
  },
  {
   "cell_type": "code",
   "execution_count": 19,
   "metadata": {},
   "outputs": [
    {
     "name": "stdout",
     "output_type": "stream",
     "text": [
      "17312.717    2\n",
      "31791.384    2\n",
      "42413.096    2\n",
      "54857.666    1\n",
      "14929.232    1\n",
      "            ..\n",
      "48796.341    1\n",
      "34774.610    1\n",
      "15710.698    1\n",
      "19232.334    1\n",
      "9591.824     1\n",
      "Name: total_income, Length: 19347, dtype: int64\n"
     ]
    }
   ],
   "source": [
    "#To see what is the relation between income level and repaying a loan on time let's devide it on groups\n",
    "print(credit_scoring['total_income'].value_counts())\n",
    "#There are 19347 clients who reported their income with there are 21525 clients as we checked earlier"
   ]
  },
  {
   "cell_type": "code",
   "execution_count": 20,
   "metadata": {},
   "outputs": [
    {
     "name": "stdout",
     "output_type": "stream",
     "text": [
      "having a wedding                            92\n",
      "to have a wedding                           81\n",
      "wedding ceremony                            76\n",
      "construction of own property                75\n",
      "housing transactions                        74\n",
      "buy real estate                             72\n",
      "transactions with my real estate            71\n",
      "purchase of the house for my family         71\n",
      "housing renovation                          70\n",
      "transactions with commercial real estate    70\n",
      "buy commercial real estate                  67\n",
      "buying property for renting out             65\n",
      "property                                    62\n",
      "buy residential real estate                 61\n",
      "real estate transactions                    61\n",
      "housing                                     60\n",
      "building a property                         59\n",
      "cars                                        57\n",
      "going to university                         56\n",
      "to become educated                          55\n",
      "second-hand car purchase                    54\n",
      "buying my own car                           53\n",
      "to own a car                                52\n",
      "purchase of the house                       52\n",
      "to get a supplementary education            51\n",
      "getting an education                        50\n",
      "supplementary education                     48\n",
      "profile education                           47\n",
      "purchase of a car                           46\n",
      "building a real estate                      46\n",
      "purchase of my own house                    46\n",
      "car purchase                                43\n",
      "education                                   42\n",
      "buying a second-hand car                    42\n",
      "car                                         41\n",
      "university education                        40\n",
      "getting higher education                    36\n",
      "to buy a car                                30\n",
      "Name: purpose, dtype: int64\n",
      "adult     1935\n",
      "young      121\n",
      "senior     118\n",
      "Name: age_group, dtype: int64\n"
     ]
    }
   ],
   "source": [
    "#Might be interesting to check if there is a correlation between purpose of credit, then age group and not reported income\n",
    "credit_scoring_income_isnull = credit_scoring[credit_scoring['total_income'].isnull()]\n",
    "print(credit_scoring_income_isnull['purpose'].value_counts())\n",
    "print(credit_scoring_income_isnull['age_group'].value_counts())\n",
    "#it looks like all categories were allowed somehow to take a loan without reporting their income."
   ]
  },
  {
   "cell_type": "code",
   "execution_count": 21,
   "metadata": {},
   "outputs": [
    {
     "name": "stdout",
     "output_type": "stream",
     "text": [
      "Here we examine those clients who did reported their income that is 90% of total clients.\n",
      "Maximum income is 362497\n",
      "Minimum income is 3307\n",
      "Average income is 26787\n",
      "Median income is 23202\n",
      "\n"
     ]
    }
   ],
   "source": [
    "#let's we'll examine those clients who did reported their income that is 90%:\n",
    "credit_scoring_income = credit_scoring[credit_scoring['total_income'].notnull()]\n",
    "print('Here we examine those clients who did reported their income that is {:.0%}'.format(len(credit_scoring_income)/len(credit_scoring)),'of total clients.')\n",
    "#print(credit_scoring_income)\n",
    "\n",
    "print('Maximum income is', round(credit_scoring_income['total_income'].max()))\n",
    "print('Minimum income is', round(credit_scoring_income['total_income'].min()))\n",
    "print('Average income is', round(credit_scoring_income['total_income'].mean()))\n",
    "print('Median income is', round(credit_scoring_income['total_income'].median()))\n",
    "print()"
   ]
  },
  {
   "cell_type": "code",
   "execution_count": 22,
   "metadata": {},
   "outputs": [
    {
     "name": "stdout",
     "output_type": "stream",
     "text": [
      "income_above_median_nodebt    8908\n",
      "income_below_median_nodebt    8871\n",
      "income_below_median_debt       804\n",
      "income_above_median_debt       767\n",
      "Name: income_group, dtype: int64\n"
     ]
    }
   ],
   "source": [
    "#As average income is pretty close to the median income, \n",
    "#that means that our clients group income is spread pretty homogenous, \n",
    "#without significant gaps\n",
    "\n",
    "#let's devide customers in 2 groups - below median and above median\n",
    "#for this purpose let's create new variable income_median\n",
    "income_median = credit_scoring_income['total_income'].median()\n",
    "       \n",
    "#and then define two groups: \n",
    "#income_below_median and income_above_median and then \n",
    "#save it in additional column of credit_scoring table\n",
    "def income_group(row):\n",
    "    total_income = row['total_income']\n",
    "    debt = row['debt']\n",
    "    \n",
    "    if total_income <= income_median :\n",
    "        if debt == 1 :\n",
    "            return 'income_below_median_debt'\n",
    "    if total_income <= income_median :\n",
    "        if debt == 0 :\n",
    "            return 'income_below_median_nodebt'\n",
    "    if total_income > income_median :\n",
    "        if debt == 0 :\n",
    "            return 'income_above_median_nodebt'\n",
    "    if total_income > income_median :\n",
    "        if debt == 1 :\n",
    "            return 'income_above_median_debt'\n",
    "\n",
    "credit_scoring['income_group'] = credit_scoring.apply(income_group, axis=1)\n",
    "print(credit_scoring['income_group'].value_counts())  "
   ]
  },
  {
   "cell_type": "code",
   "execution_count": 23,
   "metadata": {},
   "outputs": [
    {
     "name": "stdout",
     "output_type": "stream",
     "text": [
      "Out of total number of clients, who reported their income, those who have a delay in repaying a loan earning:\n",
      "- below median income: 4%\n",
      "- above median income: 4%\n"
     ]
    }
   ],
   "source": [
    "#let's see what is the relation among those who pay loan on time and those who don't:\n",
    "#print('Clients who can not pay their loan on time represent {:.0%}'.format(len(credit_scoring[credit_scoring[['income_group'] == 'income_below_median_debt']]))/len(credit_scoring)),'of total clients.')\n",
    "income_below_median_debt = (credit_scoring[credit_scoring['income_group'] == 'income_below_median_debt']).count()/len(credit_scoring_income['debt'])\n",
    "income_above_median_debt = (credit_scoring[credit_scoring['income_group'] == 'income_above_median_debt']).count()/len(credit_scoring_income['debt'])\n",
    "\n",
    "print('Out of total number of clients, who reported their income, those who have a delay in repaying a loan earning:')\n",
    "print('- below median income: {:.0%}'.format(income_below_median_debt['income_group']))\n",
    "print('- above median income: {:.0%}'.format(income_above_median_debt['income_group']))\n",
    "\n",
    "#credit_scoring.groupby(['income_group','debt']).size()"
   ]
  },
  {
   "cell_type": "markdown",
   "metadata": {},
   "source": [
    "### Conclusion"
   ]
  },
  {
   "cell_type": "markdown",
   "metadata": {},
   "source": [
    "Here we examine those clients who did reported their income that is 90% of total clients.\n",
    "Out these clients, those who have a delay in repaying a loan earning:\n",
    "- below median income: 4.2%\n",
    "- above median income:: 4.0%"
   ]
  },
  {
   "cell_type": "markdown",
   "metadata": {},
   "source": [
    "### Step 3. -4. How do different loan purposes affect on-time repayment of the loan?"
   ]
  },
  {
   "cell_type": "code",
   "execution_count": 24,
   "metadata": {},
   "outputs": [
    {
     "name": "stdout",
     "output_type": "stream",
     "text": [
      "Different loan purposes affect on-time repayment in  19783 cases as follows:\n",
      "\n",
      "Real Estate  | Car     | Education | Wedding  \n",
      "-----------------------------------------------\n",
      "        3.7% |    3.6% |      3.6% |      3.1% \n",
      "\n",
      "In general, loan is repaid in 92%: cases\n",
      "\n"
     ]
    }
   ],
   "source": [
    "credit_scoring.groupby(['purpose','debt']).size()\n",
    "\n",
    "#In order to take a look on on-time repayment of the loan \n",
    "#let's use variable ontime_debt_total that sums up those who has no debt ('debt' == 0)\n",
    "ontime_debt_total = credit_scoring[credit_scoring['debt'] == 0]\n",
    "print('Different loan purposes affect on-time repayment in ', (len(ontime_debt_total)),'cases as follows:')\n",
    "print()\n",
    "#Let's take a look for what purposes loans were repaid successfully\n",
    "purpose = ontime_debt_total['purpose'].value_counts()/len(ontime_debt_total)\n",
    "\n",
    "print('Real Estate  | Car     | Education | Wedding  ')\n",
    "print('-----------------------------------------------')\n",
    "print('{: >12.1%} | {: >7.1%} | {: >9.1%} | {: >9.1%} '.format(purpose[0], purpose[1], purpose[2], purpose[3]))\n",
    "print()\n",
    "print('In general, loan is repaid in {:.0%}:'.format(len(ontime_debt_total)/len(credit_scoring)),'cases')\n",
    "print()\n",
    "\n",
    "#credit_scoring.info()"
   ]
  },
  {
   "cell_type": "markdown",
   "metadata": {},
   "source": [
    "### Conclusion"
   ]
  },
  {
   "cell_type": "markdown",
   "metadata": {},
   "source": [
    "Different loan purposes affect on-time repayment in 19783 cases as follows:\n",
    "- real estate: 50.8% \n",
    "- car: 19.8%\n",
    "- education: 18.5%\n",
    "- wedding: 10.9% "
   ]
  },
  {
   "cell_type": "markdown",
   "metadata": {},
   "source": [
    "### Step 4. General conclusion"
   ]
  },
  {
   "cell_type": "markdown",
   "metadata": {},
   "source": [
    "There is a data set credit_scoring.csv that was examined in this project. It consists of 21525 rows, we suppose that every row represents a client who took a loan. Among them we had to find those groups who repays on time depending on their marital status, having or not having kids, income level and  loan purposes.\n",
    "\n",
    "Out of total number of clients, those who have a delay in repaying a loan living:\n",
    "- in couples (married or in civil partnership): 6.1%\n",
    "- alone (widow / widower, divorced or unmarried): 2.0%\n",
    "\n",
    "There is a relation between having kids and delay in repaying a loan on time in 3.1% cases.\n",
    "\n",
    "We examined those clients who did reported their income that is 90% of total clients. Out these clients, those who have a delay in repaying a loan earning:\n",
    "* below median income: 4.2%\n",
    "* above median income: 4.0%\n",
    "\n",
    "As per those, who repay there loan on time, loan purposes are divided as follows::\n",
    "* real estate: 50.8% \n",
    "* car: 19.8%\n",
    "* education: 18.5%\n",
    "* wedding: 10.9% \n",
    "\n",
    "In general, loan is repaid in 92% of cases.\n",
    "\n",
    "\n",
    "Below you can find more details regarding data preprocessing.\n",
    "Predefined columns: \n",
    "\n",
    "The clients’ family status appears in the ‘family_status’ column and 'family_status_id'; their total income, in the ‘total_income’ column (as float); and their ages (as integers), in the ‘dob_years’ column; number of children in 'children' column, employment period in 'days_employed', educational level in 'education' column and 'education_id', client's gender in 'gender' column; source of income in 'income_type'; status of the credit repayment in 'debt' column; credit's purpose in 'purpose'.\n",
    "\n",
    "\n",
    "For analysis purposes following columns were created in order to deep dive into groups:\n",
    "- age_group \n",
    "- family_group\n",
    "- children_group   \n",
    "- education_group \n",
    "- kids_loan_trust \n",
    "- marital_loan_trust\n",
    "- income_group.\n",
    "\n",
    "While cleaning the data following manipulations were executed:\n",
    "- missing values were replaced in case of ‘gender’ column - 1 row, value XNA\n",
    "- erroneous data was fixed in ‘children’ column:  \n",
    "    - negative value replaced with positive\n",
    "    - value ’20’ replaced by ‘2’ - as it had significant number of clients and pretty unusual, taking into account that the next number of kids was ‘5’; thus it was considered as ‘2’ that was saved with errors \n",
    "- negative values in ‘days_employed’ column were replace with positive\n",
    "- data in column ’education’ was aligned with lower case\n",
    "- column ‘purpose’ were aligned according to 4 categories: car, wedding, real estate, education; all other variations were replaced by those four\n",
    "- column ‘tatal_income’ had 10% of missing values, thus this group (without missing values) was examined separately in the dedicated part regarding relation between loan repayment and income. \n"
   ]
  }
 ],
 "metadata": {
  "kernelspec": {
   "display_name": "Python 3",
   "language": "python",
   "name": "python3"
  },
  "language_info": {
   "codemirror_mode": {
    "name": "ipython",
    "version": 3
   },
   "file_extension": ".py",
   "mimetype": "text/x-python",
   "name": "python",
   "nbconvert_exporter": "python",
   "pygments_lexer": "ipython3",
   "version": "3.7.8"
  },
  "toc": {
   "base_numbering": 1,
   "nav_menu": {},
   "number_sections": true,
   "sideBar": true,
   "skip_h1_title": false,
   "title_cell": "Table of Contents",
   "title_sidebar": "Contents",
   "toc_cell": false,
   "toc_position": {},
   "toc_section_display": true,
   "toc_window_display": false
  }
 },
 "nbformat": 4,
 "nbformat_minor": 2
}
